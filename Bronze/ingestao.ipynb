{
 "cells": [
  {
   "cell_type": "code",
   "execution_count": 8,
   "id": "90d93770-ab17-4be5-ace9-71367b5394a8",
   "metadata": {
    "scrolled": true
   },
   "outputs": [
    {
     "data": {
      "text/html": [
       "\n",
       "            <div>\n",
       "                <p><b>SparkSession - hive</b></p>\n",
       "                \n",
       "        <div>\n",
       "            <p><b>SparkContext</b></p>\n",
       "\n",
       "            <p><a href=\"http://192.168.15.4:4040\">Spark UI</a></p>\n",
       "\n",
       "            <dl>\n",
       "              <dt>Version</dt>\n",
       "                <dd><code>v3.4.1</code></dd>\n",
       "              <dt>Master</dt>\n",
       "                <dd><code>local[*]</code></dd>\n",
       "              <dt>AppName</dt>\n",
       "                <dd><code>MyApp</code></dd>\n",
       "            </dl>\n",
       "        </div>\n",
       "        \n",
       "            </div>\n",
       "        "
      ],
      "text/plain": [
       "<pyspark.sql.session.SparkSession at 0x7fd24ce924a0>"
      ]
     },
     "execution_count": 8,
     "metadata": {},
     "output_type": "execute_result"
    }
   ],
   "source": [
    "import platform \n",
    "from pyspark.sql import SparkSession\n",
    "from delta import *\n",
    "import pandas as pd\n",
    "from pyspark.sql import types\n",
    "\n",
    "try:\n",
    "    spark.stop()\n",
    "except:\n",
    "    pass\n",
    "    \n",
    "if platform.system() == 'Windows':\n",
    "    path = 'C:'\n",
    "    spark = (SparkSession.builder.master(\"local[*]\")\n",
    "        .appName(\"TesteHive\")\n",
    "        .config(\"hive.metastore.uris\", \"thrift://192.168.15.4:9083\")\n",
    "        .config(\"spark.sql.warehouse.dir\",\"hdfs://localhost:9000/users/hive/warehouse\")\n",
    "        .config(\"spark.sql.extensions\", \"io.delta.sql.DeltaSparkSessionExtension\")\n",
    "        .config(\"spark.sql.catalog.spark_catalog\", \"org.apache.spark.sql.delta.catalog.DeltaCatalog\")\n",
    "        .config(\"spark.sql.adaptive.enabled\", \"true\")\n",
    "        .enableHiveSupport()\n",
    "        .getOrCreate())\n",
    "    spark\n",
    "else:\n",
    "    path = '/mnt/c'\n",
    "    builder = (SparkSession.builder.appName(\"MyApp\")\n",
    "            .config(\"hive.metastore.uris\", \"thrift://192.168.15.4:9083\")\n",
    "            .config(\"spark.sql.warehouse.dir\",\"hdfs://localhost:9000/users/hive/warehouse\")\n",
    "            .config(\"spark.jars.packages\",\"io.delta:delta-core_2.12:2.4.0\")\n",
    "            .config(\"spark.sql.extensions\", \"io.delta.sql.DeltaSparkSessionExtension\")\n",
    "            .config(\"spark.sql.catalog.spark_catalog\", \"org.apache.spark.sql.delta.catalog.DeltaCatalog\")\n",
    "            .enableHiveSupport())\n",
    "    \n",
    "    spark = configure_spark_with_delta_pip(builder).getOrCreate()\n",
    "\n",
    "spark"
   ]
  },
  {
   "cell_type": "code",
   "execution_count": 9,
   "id": "27622cb4",
   "metadata": {},
   "outputs": [],
   "source": [
    "import sys\n",
    "sys.path.insert(0, f\"{path}/Users/Daniel/Desktop/Estudos/DataSus/scripts\")\n",
    "from ingestors import IngestaoBronze\n",
    "import dbtools"
   ]
  },
  {
   "cell_type": "code",
   "execution_count": 10,
   "id": "70808987",
   "metadata": {},
   "outputs": [
    {
     "name": "stdout",
     "output_type": "stream",
     "text": [
      "Inferindo schema...\n",
      "ok\n",
      "Carregando query default\n",
      "Ok.\n"
     ]
    }
   ],
   "source": [
    "table = \"rd_sih\"\n",
    "path_full_load = f'/DataSus/rd/csv'\n",
    "path_incremental = f'/DataSus/rd/csv'\n",
    "file_format = 'csv'\n",
    "table_name=table\n",
    "database_name='bronze'\n",
    "id_fields = [\"N_AIH\",\"DT_SAIDA\",\"IDENT\"]\n",
    "timestamp_field= 'DT_SAIDA'\n",
    "partition_fields=[\"ANO_CMPT\",\"MES_CMPT\"]\n",
    "read_options = {'sep': ';','header': 'true'}\n",
    "\n",
    "ingestao = IngestaoBronze(\n",
    "            path_full_load=path_full_load,\n",
    "            path_incremental=path_incremental,\n",
    "            file_format=file_format,\n",
    "            table_name=table_name,\n",
    "            database_name=database_name,\n",
    "            id_fields=id_fields,\n",
    "            timestamp_field=timestamp_field,\n",
    "            partition_fields=partition_fields,\n",
    "            read_options=read_options,\n",
    "            spark=spark)"
   ]
  },
  {
   "cell_type": "code",
   "execution_count": 11,
   "id": "36d80cfd",
   "metadata": {},
   "outputs": [],
   "source": [
    "if not spark._jsparkSession.catalog().tableExists(database_name, table):\n",
    "    df_null = spark.createDataFrame(data=[], schema=ingestao.schema)\n",
    "    ingestao.save_full(df_null)\n",
    "    #dbutils.fs.rm(ingestao.checkpoint_path, True) -- Ver como fazer essa parte - acho q vou usar a lib do hdfs"
   ]
  },
  {
   "cell_type": "code",
   "execution_count": 12,
   "id": "8bb38e9f",
   "metadata": {
    "scrolled": true
   },
   "outputs": [
    {
     "name": "stderr",
     "output_type": "stream",
     "text": [
      "23/08/27 01:59:57 WARN ResolveWriteToStream: spark.sql.adaptive.enabled is not supported in streaming DataFrames/Datasets and will be disabled.\n"
     ]
    },
    {
     "data": {
      "text/plain": [
       "<pyspark.sql.streaming.query.StreamingQuery at 0x7fd24ce90c70>"
      ]
     },
     "execution_count": 12,
     "metadata": {},
     "output_type": "execute_result"
    }
   ],
   "source": [
    "ingestao.process_stream()"
   ]
  },
  {
   "cell_type": "code",
   "execution_count": 13,
   "id": "696cebc4",
   "metadata": {},
   "outputs": [
    {
     "name": "stderr",
     "output_type": "stream",
     "text": [
      "[Stage 11:>                                                       (0 + 10) / 10]\r"
     ]
    },
    {
     "name": "stdout",
     "output_type": "stream",
     "text": [
      "+---+-----------------+------------------------+--------------------------------------+--------+\n",
      "| UF|count(DISTINCT 0)|count(DISTINCT mes_cmpt)|count(DISTINCT N_AIH, DT_SAIDA, IDENT)|count(1)|\n",
      "+---+-----------------+------------------------+--------------------------------------+--------+\n",
      "| 12|                1|                      12|                                 83986|   83986|\n",
      "| 16|                1|                      12|                                 71273|   71273|\n",
      "+---+-----------------+------------------------+--------------------------------------+--------+\n",
      "\n"
     ]
    },
    {
     "name": "stderr",
     "output_type": "stream",
     "text": [
      "                                                                                \r"
     ]
    }
   ],
   "source": [
    "spark.sql('''\n",
    "\n",
    "select \n",
    "\n",
    "substring(UF_zi,1,2) as UF,\n",
    "count (distinct 0),\n",
    "count (distinct mes_cmpt),\n",
    "count (distinct N_AIH,DT_SAIDA,IDENT),\n",
    "count(*)\n",
    "\n",
    "from bronze.rd_sih\n",
    "\n",
    "group by 1\n",
    "order by 1\n",
    "''').show(30)"
   ]
  },
  {
   "cell_type": "code",
   "execution_count": 14,
   "id": "4e190fbd",
   "metadata": {},
   "outputs": [
    {
     "name": "stderr",
     "output_type": "stream",
     "text": [
      "[Stage 19:===================>                                     (4 + 8) / 12]\r"
     ]
    },
    {
     "name": "stdout",
     "output_type": "stream",
     "text": [
      "+---+------------------------+------------------------+--------------------------------------+--------+\n",
      "| UF|count(DISTINCT ano_cmpt)|count(DISTINCT mes_cmpt)|count(DISTINCT N_AIH, DT_SAIDA, IDENT)|count(1)|\n",
      "+---+------------------------+------------------------+--------------------------------------+--------+\n",
      "| 12|                       3|                      12|                                 83986|  125396|\n",
      "| 16|                       3|                      12|                                 71273|  105800|\n",
      "+---+------------------------+------------------------+--------------------------------------+--------+\n",
      "\n"
     ]
    },
    {
     "name": "stderr",
     "output_type": "stream",
     "text": [
      "                                                                                \r"
     ]
    }
   ],
   "source": [
    "df = spark.read.csv('/DataSus/rd/csv',sep=\";\",header=True)\n",
    "df.createOrReplaceTempView(\"test\")\n",
    "\n",
    "spark.sql('''\n",
    "\n",
    "select \n",
    "\n",
    "substring(UF_zi,1,2) as UF,\n",
    "count (distinct ano_cmpt),\n",
    "count (distinct mes_cmpt),\n",
    "count (distinct N_AIH,DT_SAIDA,IDENT),\n",
    "count(*)\n",
    "\n",
    "from test\n",
    "\n",
    "group by 1\n",
    "order by 1\n",
    "''').show(30)"
   ]
  }
 ],
 "metadata": {
  "kernelspec": {
   "display_name": "Python 3 (ipykernel)",
   "language": "python",
   "name": "python3"
  },
  "language_info": {
   "codemirror_mode": {
    "name": "ipython",
    "version": 3
   },
   "file_extension": ".py",
   "mimetype": "text/x-python",
   "name": "python",
   "nbconvert_exporter": "python",
   "pygments_lexer": "ipython3",
   "version": "3.10.12"
  }
 },
 "nbformat": 4,
 "nbformat_minor": 5
}

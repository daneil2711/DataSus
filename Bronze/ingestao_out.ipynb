{
 "cells": [
  {
   "cell_type": "code",
   "execution_count": 1,
   "id": "90d93770-ab17-4be5-ace9-71367b5394a8",
   "metadata": {
    "execution": {
     "iopub.execute_input": "2023-08-27T05:13:39.586596Z",
     "iopub.status.busy": "2023-08-27T05:13:39.586219Z",
     "iopub.status.idle": "2023-08-27T05:13:44.431994Z",
     "shell.execute_reply": "2023-08-27T05:13:44.431417Z"
    },
    "papermill": {
     "duration": 4.850728,
     "end_time": "2023-08-27T05:13:44.433140",
     "exception": false,
     "start_time": "2023-08-27T05:13:39.582412",
     "status": "completed"
    },
    "scrolled": true,
    "tags": []
   },
   "outputs": [
    {
     "name": "stderr",
     "output_type": "stream",
     "text": [
      "Warning: Ignoring non-Spark config property: hive.metastore.uris\n",
      "23/08/27 02:13:41 WARN Utils: Your hostname, DESKTOP-F7PDKOR resolves to a loopback address: 127.0.1.1; using 192.168.15.4 instead (on interface eth0)\n",
      "23/08/27 02:13:41 WARN Utils: Set SPARK_LOCAL_IP if you need to bind to another address\n"
     ]
    },
    {
     "name": "stdout",
     "output_type": "stream",
     "text": [
      ":: loading settings :: url = jar:file:/opt/spark-3.4.1/jars/ivy-2.5.1.jar!/org/apache/ivy/core/settings/ivysettings.xml\n"
     ]
    },
    {
     "name": "stderr",
     "output_type": "stream",
     "text": [
      "Ivy Default Cache set to: /root/.ivy2/cache\n",
      "The jars for the packages stored in: /root/.ivy2/jars\n",
      "io.delta#delta-core_2.12 added as a dependency\n",
      ":: resolving dependencies :: org.apache.spark#spark-submit-parent-d7f8e080-22b7-434b-8ee9-25ba977db497;1.0\n",
      "\tconfs: [default]\n",
      "\tfound io.delta#delta-core_2.12;2.4.0 in central\n",
      "\tfound io.delta#delta-storage;2.4.0 in central\n",
      "\tfound org.antlr#antlr4-runtime;4.9.3 in central\n",
      ":: resolution report :: resolve 133ms :: artifacts dl 7ms\n",
      "\t:: modules in use:\n",
      "\tio.delta#delta-core_2.12;2.4.0 from central in [default]\n",
      "\tio.delta#delta-storage;2.4.0 from central in [default]\n",
      "\torg.antlr#antlr4-runtime;4.9.3 from central in [default]\n",
      "\t---------------------------------------------------------------------\n",
      "\t|                  |            modules            ||   artifacts   |\n",
      "\t|       conf       | number| search|dwnlded|evicted|| number|dwnlded|\n",
      "\t---------------------------------------------------------------------\n",
      "\t|      default     |   3   |   0   |   0   |   0   ||   3   |   0   |\n",
      "\t---------------------------------------------------------------------\n",
      ":: retrieving :: org.apache.spark#spark-submit-parent-d7f8e080-22b7-434b-8ee9-25ba977db497\n",
      "\tconfs: [default]\n",
      "\t0 artifacts copied, 3 already retrieved (0kB/15ms)\n"
     ]
    },
    {
     "name": "stderr",
     "output_type": "stream",
     "text": [
      "23/08/27 02:13:41 WARN NativeCodeLoader: Unable to load native-hadoop library for your platform... using builtin-java classes where applicable\n",
      "Setting default log level to \"WARN\".\n",
      "To adjust logging level use sc.setLogLevel(newLevel). For SparkR, use setLogLevel(newLevel).\n"
     ]
    },
    {
     "data": {
      "text/html": [
       "\n",
       "            <div>\n",
       "                <p><b>SparkSession - hive</b></p>\n",
       "                \n",
       "        <div>\n",
       "            <p><b>SparkContext</b></p>\n",
       "\n",
       "            <p><a href=\"http://192.168.15.4:4040\">Spark UI</a></p>\n",
       "\n",
       "            <dl>\n",
       "              <dt>Version</dt>\n",
       "                <dd><code>v3.4.1</code></dd>\n",
       "              <dt>Master</dt>\n",
       "                <dd><code>local[*]</code></dd>\n",
       "              <dt>AppName</dt>\n",
       "                <dd><code>MyApp</code></dd>\n",
       "            </dl>\n",
       "        </div>\n",
       "        \n",
       "            </div>\n",
       "        "
      ],
      "text/plain": [
       "<pyspark.sql.session.SparkSession at 0x7fcb8abc1960>"
      ]
     },
     "execution_count": 1,
     "metadata": {},
     "output_type": "execute_result"
    }
   ],
   "source": [
    "import platform \n",
    "from pyspark.sql import SparkSession\n",
    "from delta import *\n",
    "import pandas as pd\n",
    "from pyspark.sql import types\n",
    "\n",
    "try:\n",
    "    spark.stop()\n",
    "except:\n",
    "    pass\n",
    "    \n",
    "if platform.system() == 'Windows':\n",
    "    path = 'C:'\n",
    "    spark = (SparkSession.builder.master(\"local[*]\")\n",
    "        .appName(\"TesteHive\")\n",
    "        .config(\"hive.metastore.uris\", \"thrift://192.168.15.4:9083\")\n",
    "        .config(\"spark.sql.warehouse.dir\",\"hdfs://localhost:9000/users/hive/warehouse\")\n",
    "        .config(\"spark.sql.extensions\", \"io.delta.sql.DeltaSparkSessionExtension\")\n",
    "        .config(\"spark.sql.catalog.spark_catalog\", \"org.apache.spark.sql.delta.catalog.DeltaCatalog\")\n",
    "        .config(\"spark.sql.adaptive.enabled\", \"true\")\n",
    "        .enableHiveSupport()\n",
    "        .getOrCreate())\n",
    "    spark\n",
    "else:\n",
    "    path = '/mnt/c'\n",
    "    builder = (SparkSession.builder.appName(\"MyApp\")\n",
    "            .config(\"hive.metastore.uris\", \"thrift://192.168.15.4:9083\")\n",
    "            .config(\"spark.sql.warehouse.dir\",\"hdfs://localhost:9000/users/hive/warehouse\")\n",
    "            .config(\"spark.jars.packages\",\"io.delta:delta-core_2.12:2.4.0\")\n",
    "            .config(\"spark.sql.extensions\", \"io.delta.sql.DeltaSparkSessionExtension\")\n",
    "            .config(\"spark.sql.catalog.spark_catalog\", \"org.apache.spark.sql.delta.catalog.DeltaCatalog\")\n",
    "            .enableHiveSupport())\n",
    "    \n",
    "    spark = configure_spark_with_delta_pip(builder).getOrCreate()\n",
    "\n",
    "spark"
   ]
  },
  {
   "cell_type": "code",
   "execution_count": 2,
   "id": "27622cb4",
   "metadata": {
    "execution": {
     "iopub.execute_input": "2023-08-27T05:13:44.448566Z",
     "iopub.status.busy": "2023-08-27T05:13:44.448104Z",
     "iopub.status.idle": "2023-08-27T05:13:44.464613Z",
     "shell.execute_reply": "2023-08-27T05:13:44.464136Z"
    },
    "papermill": {
     "duration": 0.030796,
     "end_time": "2023-08-27T05:13:44.465878",
     "exception": false,
     "start_time": "2023-08-27T05:13:44.435082",
     "status": "completed"
    },
    "tags": []
   },
   "outputs": [],
   "source": [
    "import sys\n",
    "sys.path.insert(0, f\"{path}/Users/Daniel/Desktop/Estudos/DataSus/scripts\")\n",
    "from ingestors import IngestaoBronze\n",
    "import dbtools"
   ]
  },
  {
   "cell_type": "code",
   "execution_count": 3,
   "id": "70808987",
   "metadata": {
    "execution": {
     "iopub.execute_input": "2023-08-27T05:13:44.479685Z",
     "iopub.status.busy": "2023-08-27T05:13:44.479454Z",
     "iopub.status.idle": "2023-08-27T05:13:48.332042Z",
     "shell.execute_reply": "2023-08-27T05:13:48.331567Z"
    },
    "papermill": {
     "duration": 3.865804,
     "end_time": "2023-08-27T05:13:48.333326",
     "exception": false,
     "start_time": "2023-08-27T05:13:44.467522",
     "status": "completed"
    },
    "tags": []
   },
   "outputs": [
    {
     "name": "stdout",
     "output_type": "stream",
     "text": [
      "Inferindo schema...\n"
     ]
    },
    {
     "name": "stderr",
     "output_type": "stream",
     "text": [
      "\r",
      "[Stage 0:=========================>                              (25 + 13) / 54]\r",
      "\r",
      "                                                                                \r"
     ]
    },
    {
     "name": "stdout",
     "output_type": "stream",
     "text": [
      "ok\n",
      "Carregando query default\n",
      "Ok.\n"
     ]
    }
   ],
   "source": [
    "table = \"rd_sih\"\n",
    "path_full_load = f'/DataSus/rd/csv'\n",
    "path_incremental = f'/DataSus/rd/csv'\n",
    "file_format = 'csv'\n",
    "table_name=table\n",
    "database_name='bronze'\n",
    "id_fields = [\"N_AIH\",\"DT_SAIDA\",\"IDENT\"]\n",
    "timestamp_field= 'DT_SAIDA'\n",
    "partition_fields=[\"ANO_CMPT\",\"MES_CMPT\"]\n",
    "read_options = {'sep': ';','header': 'true'}\n",
    "\n",
    "ingestao = IngestaoBronze(\n",
    "            path_full_load=path_full_load,\n",
    "            path_incremental=path_incremental,\n",
    "            file_format=file_format,\n",
    "            table_name=table_name,\n",
    "            database_name=database_name,\n",
    "            id_fields=id_fields,\n",
    "            timestamp_field=timestamp_field,\n",
    "            partition_fields=partition_fields,\n",
    "            read_options=read_options,\n",
    "            spark=spark)"
   ]
  },
  {
   "cell_type": "code",
   "execution_count": 4,
   "id": "36d80cfd",
   "metadata": {
    "execution": {
     "iopub.execute_input": "2023-08-27T05:13:48.350127Z",
     "iopub.status.busy": "2023-08-27T05:13:48.349889Z",
     "iopub.status.idle": "2023-08-27T05:13:48.827516Z",
     "shell.execute_reply": "2023-08-27T05:13:48.827009Z"
    },
    "papermill": {
     "duration": 0.49304,
     "end_time": "2023-08-27T05:13:48.828939",
     "exception": false,
     "start_time": "2023-08-27T05:13:48.335899",
     "status": "completed"
    },
    "tags": []
   },
   "outputs": [],
   "source": [
    "if not spark._jsparkSession.catalog().tableExists(database_name, table):\n",
    "    df_null = spark.createDataFrame(data=[], schema=ingestao.schema)\n",
    "    ingestao.save_full(df_null)\n",
    "    #dbutils.fs.rm(ingestao.checkpoint_path, True) -- Ver como fazer essa parte - acho q vou usar a lib do hdfs"
   ]
  },
  {
   "cell_type": "code",
   "execution_count": 5,
   "id": "8bb38e9f",
   "metadata": {
    "execution": {
     "iopub.execute_input": "2023-08-27T05:13:48.842980Z",
     "iopub.status.busy": "2023-08-27T05:13:48.842708Z",
     "iopub.status.idle": "2023-08-27T05:13:50.304701Z",
     "shell.execute_reply": "2023-08-27T05:13:50.304250Z"
    },
    "papermill": {
     "duration": 1.474791,
     "end_time": "2023-08-27T05:13:50.305880",
     "exception": false,
     "start_time": "2023-08-27T05:13:48.831089",
     "status": "completed"
    },
    "scrolled": true,
    "tags": []
   },
   "outputs": [
    {
     "name": "stderr",
     "output_type": "stream",
     "text": [
      "23/08/27 02:13:50 WARN ResolveWriteToStream: spark.sql.adaptive.enabled is not supported in streaming DataFrames/Datasets and will be disabled.\n"
     ]
    },
    {
     "data": {
      "text/plain": [
       "<pyspark.sql.streaming.query.StreamingQuery at 0x7fcb8abffd00>"
      ]
     },
     "execution_count": 5,
     "metadata": {},
     "output_type": "execute_result"
    }
   ],
   "source": [
    "ingestao.process_stream()"
   ]
  },
  {
   "cell_type": "code",
   "execution_count": 6,
   "id": "696cebc4",
   "metadata": {
    "execution": {
     "iopub.execute_input": "2023-08-27T05:13:50.320631Z",
     "iopub.status.busy": "2023-08-27T05:13:50.320387Z",
     "iopub.status.idle": "2023-08-27T05:13:57.775253Z",
     "shell.execute_reply": "2023-08-27T05:13:57.774829Z"
    },
    "papermill": {
     "duration": 7.469121,
     "end_time": "2023-08-27T05:13:57.776971",
     "exception": false,
     "start_time": "2023-08-27T05:13:50.307850",
     "status": "completed"
    },
    "tags": []
   },
   "outputs": [
    {
     "name": "stderr",
     "output_type": "stream",
     "text": [
      "23/08/27 02:13:50 WARN package: Truncated the string representation of a plan since it was too large. This behavior can be adjusted by setting 'spark.sql.debug.maxToStringFields'.\n"
     ]
    },
    {
     "name": "stderr",
     "output_type": "stream",
     "text": [
      "\r",
      "[Stage 5:=================>                                      (16 + 12) / 50]\r"
     ]
    },
    {
     "name": "stderr",
     "output_type": "stream",
     "text": [
      "\r",
      "[Stage 5:=========================================>              (37 + 12) / 50]\r",
      "\r",
      "                                                                                \r"
     ]
    },
    {
     "name": "stderr",
     "output_type": "stream",
     "text": [
      "\r",
      "[Stage 11:>                                                       (0 + 10) / 10]\r"
     ]
    },
    {
     "name": "stderr",
     "output_type": "stream",
     "text": [
      "\r",
      "[Stage 11:===========>                                             (2 + 8) / 10]\r"
     ]
    },
    {
     "name": "stderr",
     "output_type": "stream",
     "text": [
      "\r",
      "[Stage 11:===================================================>     (9 + 1) / 10]\r"
     ]
    },
    {
     "name": "stdout",
     "output_type": "stream",
     "text": [
      "+---+-----------------+------------------------+--------------------------------------+--------+\n",
      "| UF|count(DISTINCT 0)|count(DISTINCT mes_cmpt)|count(DISTINCT N_AIH, DT_SAIDA, IDENT)|count(1)|\n",
      "+---+-----------------+------------------------+--------------------------------------+--------+\n",
      "| 12|                1|                      12|                                 83986|   83986|\n",
      "| 16|                1|                      12|                                 71273|   71273|\n",
      "+---+-----------------+------------------------+--------------------------------------+--------+\n",
      "\n"
     ]
    },
    {
     "name": "stderr",
     "output_type": "stream",
     "text": [
      "\r",
      "                                                                                \r"
     ]
    }
   ],
   "source": [
    "spark.sql('''\n",
    "\n",
    "select \n",
    "\n",
    "substring(UF_zi,1,2) as UF,\n",
    "count (distinct 0),\n",
    "count (distinct mes_cmpt),\n",
    "count (distinct N_AIH,DT_SAIDA,IDENT),\n",
    "count(*)\n",
    "\n",
    "from bronze.rd_sih\n",
    "\n",
    "group by 1\n",
    "order by 1\n",
    "''').show(30)"
   ]
  },
  {
   "cell_type": "code",
   "execution_count": 7,
   "id": "4e190fbd",
   "metadata": {
    "execution": {
     "iopub.execute_input": "2023-08-27T05:13:57.794780Z",
     "iopub.status.busy": "2023-08-27T05:13:57.794526Z",
     "iopub.status.idle": "2023-08-27T05:14:02.785874Z",
     "shell.execute_reply": "2023-08-27T05:14:02.785410Z"
    },
    "papermill": {
     "duration": 5.007394,
     "end_time": "2023-08-27T05:14:02.786928",
     "exception": false,
     "start_time": "2023-08-27T05:13:57.779534",
     "status": "completed"
    },
    "tags": []
   },
   "outputs": [
    {
     "name": "stderr",
     "output_type": "stream",
     "text": [
      "\r",
      "[Stage 19:>                                                       (0 + 12) / 12]\r"
     ]
    },
    {
     "name": "stderr",
     "output_type": "stream",
     "text": [
      "\r",
      "[Stage 19:====>                                                   (1 + 11) / 12]\r"
     ]
    },
    {
     "name": "stderr",
     "output_type": "stream",
     "text": [
      "\r",
      "[Stage 19:=========>                                              (2 + 10) / 12]\r",
      "\r",
      "[Stage 19:==============>                                          (3 + 9) / 12]\r"
     ]
    },
    {
     "name": "stderr",
     "output_type": "stream",
     "text": [
      "\r",
      "[Stage 19:===================>                                     (4 + 8) / 12]\r"
     ]
    },
    {
     "name": "stderr",
     "output_type": "stream",
     "text": [
      "\r",
      "[Stage 19:=================================>                       (7 + 5) / 12]\r"
     ]
    },
    {
     "name": "stdout",
     "output_type": "stream",
     "text": [
      "+---+------------------------+------------------------+--------------------------------------+--------+\n",
      "| UF|count(DISTINCT ano_cmpt)|count(DISTINCT mes_cmpt)|count(DISTINCT N_AIH, DT_SAIDA, IDENT)|count(1)|\n",
      "+---+------------------------+------------------------+--------------------------------------+--------+\n",
      "| 12|                       3|                      12|                                 83986|  125396|\n",
      "| 16|                       3|                      12|                                 71273|  105800|\n",
      "+---+------------------------+------------------------+--------------------------------------+--------+\n",
      "\n"
     ]
    },
    {
     "name": "stderr",
     "output_type": "stream",
     "text": [
      "\r",
      "                                                                                \r"
     ]
    }
   ],
   "source": [
    "df = spark.read.csv('/DataSus/rd/csv',sep=\";\",header=True)\n",
    "df.createOrReplaceTempView(\"test\")\n",
    "\n",
    "spark.sql('''\n",
    "\n",
    "select \n",
    "\n",
    "substring(UF_zi,1,2) as UF,\n",
    "count (distinct ano_cmpt),\n",
    "count (distinct mes_cmpt),\n",
    "count (distinct N_AIH,DT_SAIDA,IDENT),\n",
    "count(*)\n",
    "\n",
    "from test\n",
    "\n",
    "group by 1\n",
    "order by 1\n",
    "''').show(30)"
   ]
  }
 ],
 "metadata": {
  "kernelspec": {
   "display_name": "Python 3 (ipykernel)",
   "language": "python",
   "name": "python3"
  },
  "language_info": {
   "codemirror_mode": {
    "name": "ipython",
    "version": 3
   },
   "file_extension": ".py",
   "mimetype": "text/x-python",
   "name": "python",
   "nbconvert_exporter": "python",
   "pygments_lexer": "ipython3",
   "version": "3.10.12"
  },
  "papermill": {
   "default_parameters": {},
   "duration": 27.049527,
   "end_time": "2023-08-27T05:14:05.406885",
   "environment_variables": {},
   "exception": null,
   "input_path": "/mnt/c/Users/Daniel/Desktop/Estudos/DataSus/Bronze/ingestao.ipynb",
   "output_path": "/mnt/c/Users/Daniel/Desktop/Estudos/DataSus/Bronze/ingestao_out.ipynb",
   "parameters": {},
   "start_time": "2023-08-27T05:13:38.357358",
   "version": "2.4.0"
  }
 },
 "nbformat": 4,
 "nbformat_minor": 5
}
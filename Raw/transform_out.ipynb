{
 "cells": [
  {
   "cell_type": "code",
   "execution_count": 1,
   "id": "6a1a71c8",
   "metadata": {
    "execution": {
     "iopub.execute_input": "2023-08-27T05:13:29.537910Z",
     "iopub.status.busy": "2023-08-27T05:13:29.536321Z",
     "iopub.status.idle": "2023-08-27T05:13:33.277926Z",
     "shell.execute_reply": "2023-08-27T05:13:33.276732Z"
    },
    "papermill": {
     "duration": 3.766882,
     "end_time": "2023-08-27T05:13:33.279247",
     "exception": false,
     "start_time": "2023-08-27T05:13:29.512365",
     "status": "completed"
    },
    "tags": [],
    "vscode": {
     "languageId": "r"
    }
   },
   "outputs": [
    {
     "name": "stderr",
     "output_type": "stream",
     "text": [
      "Installing package into ‘/usr/local/lib/R/site-library’\n",
      "(as ‘lib’ is unspecified)\n",
      "\n"
     ]
    }
   ],
   "source": [
    "install.packages(\"read.dbc\")"
   ]
  },
  {
   "cell_type": "code",
   "execution_count": 2,
   "id": "22745b97",
   "metadata": {
    "execution": {
     "iopub.execute_input": "2023-08-27T05:13:33.316937Z",
     "iopub.status.busy": "2023-08-27T05:13:33.295167Z",
     "iopub.status.idle": "2023-08-27T05:13:33.324548Z",
     "shell.execute_reply": "2023-08-27T05:13:33.323692Z"
    },
    "papermill": {
     "duration": 0.044939,
     "end_time": "2023-08-27T05:13:33.325635",
     "exception": false,
     "start_time": "2023-08-27T05:13:33.280696",
     "status": "completed"
    },
    "tags": [],
    "vscode": {
     "languageId": "r"
    }
   },
   "outputs": [],
   "source": [
    "sysinf <- Sys.info()\n",
    "ambiente <- sysinf['sysname']\n",
    "if (ambiente == \"Windows\"){\n",
    "    path <- \"C:\"\n",
    "} else {\n",
    "    path <- \"/mnt/c\"\n",
    "}"
   ]
  },
  {
   "cell_type": "code",
   "execution_count": 3,
   "id": "57ad6cd0",
   "metadata": {
    "execution": {
     "iopub.execute_input": "2023-08-27T05:13:33.339315Z",
     "iopub.status.busy": "2023-08-27T05:13:33.338475Z",
     "iopub.status.idle": "2023-08-27T05:13:34.667593Z",
     "shell.execute_reply": "2023-08-27T05:13:34.665734Z"
    },
    "papermill": {
     "duration": 1.341824,
     "end_time": "2023-08-27T05:13:34.668733",
     "exception": false,
     "start_time": "2023-08-27T05:13:33.326909",
     "status": "completed"
    },
    "scrolled": true,
    "tags": [],
    "vscode": {
     "languageId": "r"
    }
   },
   "outputs": [
    {
     "name": "stderr",
     "output_type": "stream",
     "text": [
      "Warning message in system(\"python MoveArquivos.py local\"):\n",
      "“error in running command”\n"
     ]
    }
   ],
   "source": [
    "library (read.dbc)\n",
    "\n",
    "date = format(Sys.time(), \"%Y%m%d\")\n",
    "\n",
    "dbc_folder <- paste(path,\"/Users/Daniel/Desktop/Estudos/DataSus/rd/dbc/landing/\",sep = \"\")\n",
    "csv_folder <- paste(path,\"/Users/Daniel/Desktop/Estudos/DataSus/rd/csv/\",sep = \"\")\n",
    "files <- list.files(dbc_folder, full.names=TRUE)\n",
    "for (f in files){\n",
    "    df = read.dbc(f)\n",
    "    lista = strsplit(f, \"/\")[[1]]\n",
    "    file = gsub(\".dbc\", paste(date, \".csv\", sep=\".\"), lista[length(lista)])\n",
    "    write.csv2(df, paste(csv_folder, file, sep=\"\"),row.names=FALSE)\n",
    "    file.rename(from=f, to= gsub(\"landing\", \"proceeded\", f))\n",
    "}\n",
    "\n",
    "#Rodar abaixo quando for local\n",
    "system('python MoveArquivos.py local')"
   ]
  }
 ],
 "metadata": {
  "celltoolbar": "Tags",
  "kernelspec": {
   "display_name": "R",
   "language": "R",
   "name": "ir"
  },
  "language_info": {
   "codemirror_mode": "r",
   "file_extension": ".r",
   "mimetype": "text/x-r-source",
   "name": "R",
   "pygments_lexer": "r",
   "version": "4.1.2"
  },
  "papermill": {
   "default_parameters": {},
   "duration": 6.343149,
   "end_time": "2023-08-27T05:13:34.788153",
   "environment_variables": {},
   "exception": null,
   "input_path": "/mnt/c/Users/Daniel/Desktop/Estudos/DataSus/Raw/transform.ipynb",
   "output_path": "/mnt/c/Users/Daniel/Desktop/Estudos/DataSus/Raw/transform_out.ipynb",
   "parameters": {},
   "start_time": "2023-08-27T05:13:28.445004",
   "version": "2.4.0"
  }
 },
 "nbformat": 4,
 "nbformat_minor": 5
}
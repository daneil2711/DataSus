{
 "cells": [
  {
   "cell_type": "code",
   "execution_count": 8,
   "id": "56386965",
   "metadata": {},
   "outputs": [],
   "source": [
    "import platform\n",
    "if platform.system() == \"Windows\":\n",
    "    path = \"C:\"\n",
    "else:\n",
    "    path = \"/mnt/c\""
   ]
  },
  {
   "cell_type": "code",
   "execution_count": 9,
   "id": "f7b95cbb",
   "metadata": {},
   "outputs": [],
   "source": [
    "import sys\n",
    "sys.path.insert(0, f\"{path}/Users/Daniel/Desktop/Estudos/DataSus/scripts\")\n",
    "from get_dbc import * #Tive que fazer um .py da função pra rodar usando o Pool\n",
    "from multiprocessing import Pool\n",
    "import datetime\n",
    "from dateutil.relativedelta import relativedelta"
   ]
  },
  {
   "cell_type": "code",
   "execution_count": 10,
   "id": "dc99381c",
   "metadata": {},
   "outputs": [
    {
     "ename": "URLError",
     "evalue": "<urlopen error <urlopen error ftp error: error_perm('550 The system cannot find the file specified. ')>>",
     "output_type": "error",
     "traceback": [
      "\u001b[1;31m---------------------------------------------------------------------------\u001b[0m",
      "\u001b[1;31mRemoteTraceback\u001b[0m                           Traceback (most recent call last)",
      "\u001b[1;31mRemoteTraceback\u001b[0m: \n\"\"\"\nTraceback (most recent call last):\n  File \"C:\\Users\\Daniel\\anaconda3\\Lib\\urllib\\request.py\", line 2454, in retrfile\n    self.ftp.cwd(file)\n  File \"C:\\Users\\Daniel\\anaconda3\\Lib\\ftplib.py\", line 625, in cwd\n    return self.voidcmd(cmd)\n           ^^^^^^^^^^^^^^^^^\n  File \"C:\\Users\\Daniel\\anaconda3\\Lib\\ftplib.py\", line 286, in voidcmd\n    return self.voidresp()\n           ^^^^^^^^^^^^^^^\n  File \"C:\\Users\\Daniel\\anaconda3\\Lib\\ftplib.py\", line 259, in voidresp\n    resp = self.getresp()\n           ^^^^^^^^^^^^^^\n  File \"C:\\Users\\Daniel\\anaconda3\\Lib\\ftplib.py\", line 254, in getresp\n    raise error_perm(resp)\nftplib.error_perm: 550 The system cannot find the file specified. \n\nThe above exception was the direct cause of the following exception:\n\nTraceback (most recent call last):\n  File \"C:\\Users\\Daniel\\anaconda3\\Lib\\urllib\\request.py\", line 1572, in ftp_open\n    fp, retrlen = fw.retrfile(file, type)\n                  ^^^^^^^^^^^^^^^^^^^^^^^\n  File \"C:\\Users\\Daniel\\anaconda3\\Lib\\urllib\\request.py\", line 2456, in retrfile\n    raise URLError('ftp error: %r' % reason) from reason\nurllib.error.URLError: <urlopen error ftp error: error_perm('550 The system cannot find the file specified. ')>\n\nThe above exception was the direct cause of the following exception:\n\nTraceback (most recent call last):\n  File \"C:\\Users\\Daniel\\anaconda3\\Lib\\multiprocessing\\pool.py\", line 125, in worker\n    result = (True, func(*args, **kwds))\n                    ^^^^^^^^^^^^^^^^^^^\n  File \"C:\\Users\\Daniel\\anaconda3\\Lib\\multiprocessing\\pool.py\", line 51, in starmapstar\n    return list(itertools.starmap(args[0], args[1]))\n           ^^^^^^^^^^^^^^^^^^^^^^^^^^^^^^^^^^^^^^^^^\n  File \"C:\\Users/Daniel/Desktop/Estudos/DataSus/notebooks\\get_dbc.py\", line 34, in get_data_uf\n    get_data_uf_ano_mes(uf, ano, mes, path)\n  File \"C:\\Users/Daniel/Desktop/Estudos/DataSus/notebooks\\get_dbc.py\", line 26, in get_data_uf_ano_mes\n    resp = urllib.request.urlretrieve(url, file_path)\n           ^^^^^^^^^^^^^^^^^^^^^^^^^^^^^^^^^^^^^^^^^^\n  File \"C:\\Users\\Daniel\\anaconda3\\Lib\\urllib\\request.py\", line 241, in urlretrieve\n    with contextlib.closing(urlopen(url, data)) as fp:\n                            ^^^^^^^^^^^^^^^^^^\n  File \"C:\\Users\\Daniel\\anaconda3\\Lib\\urllib\\request.py\", line 216, in urlopen\n    return opener.open(url, data, timeout)\n           ^^^^^^^^^^^^^^^^^^^^^^^^^^^^^^^\n  File \"C:\\Users\\Daniel\\anaconda3\\Lib\\urllib\\request.py\", line 519, in open\n    response = self._open(req, data)\n               ^^^^^^^^^^^^^^^^^^^^^\n  File \"C:\\Users\\Daniel\\anaconda3\\Lib\\urllib\\request.py\", line 536, in _open\n    result = self._call_chain(self.handle_open, protocol, protocol +\n             ^^^^^^^^^^^^^^^^^^^^^^^^^^^^^^^^^^^^^^^^^^^^^^^^^^^^^^^\n  File \"C:\\Users\\Daniel\\anaconda3\\Lib\\urllib\\request.py\", line 496, in _call_chain\n    result = func(*args)\n             ^^^^^^^^^^^\n  File \"C:\\Users\\Daniel\\anaconda3\\Lib\\urllib\\request.py\", line 1582, in ftp_open\n    raise URLError(exp) from exp\nurllib.error.URLError: <urlopen error <urlopen error ftp error: error_perm('550 The system cannot find the file specified. ')>>\n\"\"\"",
      "\nThe above exception was the direct cause of the following exception:\n",
      "\u001b[1;31mURLError\u001b[0m                                  Traceback (most recent call last)",
      "Cell \u001b[1;32mIn[10], line 21\u001b[0m\n\u001b[0;32m     19\u001b[0m to_download\n\u001b[0;32m     20\u001b[0m \u001b[38;5;28;01mwith\u001b[39;00m Pool(\u001b[38;5;241m3\u001b[39m) \u001b[38;5;28;01mas\u001b[39;00m pool:\n\u001b[1;32m---> 21\u001b[0m     pool\u001b[38;5;241m.\u001b[39mstarmap(get_data_uf, to_download)\n",
      "File \u001b[1;32m~\\anaconda3\\Lib\\multiprocessing\\pool.py:375\u001b[0m, in \u001b[0;36mPool.starmap\u001b[1;34m(self, func, iterable, chunksize)\u001b[0m\n\u001b[0;32m    369\u001b[0m \u001b[38;5;28;01mdef\u001b[39;00m \u001b[38;5;21mstarmap\u001b[39m(\u001b[38;5;28mself\u001b[39m, func, iterable, chunksize\u001b[38;5;241m=\u001b[39m\u001b[38;5;28;01mNone\u001b[39;00m):\n\u001b[0;32m    370\u001b[0m \u001b[38;5;250m    \u001b[39m\u001b[38;5;124;03m'''\u001b[39;00m\n\u001b[0;32m    371\u001b[0m \u001b[38;5;124;03m    Like `map()` method but the elements of the `iterable` are expected to\u001b[39;00m\n\u001b[0;32m    372\u001b[0m \u001b[38;5;124;03m    be iterables as well and will be unpacked as arguments. Hence\u001b[39;00m\n\u001b[0;32m    373\u001b[0m \u001b[38;5;124;03m    `func` and (a, b) becomes func(a, b).\u001b[39;00m\n\u001b[0;32m    374\u001b[0m \u001b[38;5;124;03m    '''\u001b[39;00m\n\u001b[1;32m--> 375\u001b[0m     \u001b[38;5;28;01mreturn\u001b[39;00m \u001b[38;5;28mself\u001b[39m\u001b[38;5;241m.\u001b[39m_map_async(func, iterable, starmapstar, chunksize)\u001b[38;5;241m.\u001b[39mget()\n",
      "File \u001b[1;32m~\\anaconda3\\Lib\\multiprocessing\\pool.py:774\u001b[0m, in \u001b[0;36mApplyResult.get\u001b[1;34m(self, timeout)\u001b[0m\n\u001b[0;32m    772\u001b[0m     \u001b[38;5;28;01mreturn\u001b[39;00m \u001b[38;5;28mself\u001b[39m\u001b[38;5;241m.\u001b[39m_value\n\u001b[0;32m    773\u001b[0m \u001b[38;5;28;01melse\u001b[39;00m:\n\u001b[1;32m--> 774\u001b[0m     \u001b[38;5;28;01mraise\u001b[39;00m \u001b[38;5;28mself\u001b[39m\u001b[38;5;241m.\u001b[39m_value\n",
      "\u001b[1;31mURLError\u001b[0m: <urlopen error <urlopen error ftp error: error_perm('550 The system cannot find the file specified. ')>>"
     ]
    }
   ],
   "source": [
    "\n",
    "# ufs =[\"RO\",\"AC\",\"AM\",\"RR\",\"PA\",\"AP\",\"TO\",\"MA\",\"PI\",\"CE\",\n",
    "#       \"RN\",\"PB\",\"PE\",\"AL\",\"SE\",\"BA\",\"MG\",\"ES\",\"RJ\",\"SP\",\n",
    "#       \"PR\",\"SC\",\"RS\",\"MS\",\"MT\",\"GO\",\"DF\"]\n",
    "\n",
    "ufs = [\"AC\",\"AP\"]\n",
    "# dt_start = '2023-08-26'\n",
    "# dt_stop = '2023-08-26'\n",
    "\n",
    "dt_start = ((datetime.datetime.strptime(dt_start, \"%Y-%m-%d\")) - relativedelta(months=delay)).strftime(\"%Y-%m-01\")\n",
    "\n",
    "datas = date_range(dt_start, dt_stop, monthly=True)\n",
    "\n",
    "to_download = [(uf, datas, path) for uf in ufs]\n",
    "to_download\n",
    "with Pool(3) as pool:\n",
    "    pool.starmap(get_data_uf, to_download)"
   ]
  },
  {
   "cell_type": "code",
   "execution_count": null,
   "id": "cfcb549a",
   "metadata": {},
   "outputs": [],
   "source": []
  }
 ],
 "metadata": {
  "celltoolbar": "Tags",
  "kernelspec": {
   "display_name": "Python 3 (ipykernel)",
   "language": "python",
   "name": "python3"
  },
  "language_info": {
   "codemirror_mode": {
    "name": "ipython",
    "version": 3
   },
   "file_extension": ".py",
   "mimetype": "text/x-python",
   "name": "python",
   "nbconvert_exporter": "python",
   "pygments_lexer": "ipython3",
   "version": "3.10.12"
  }
 },
 "nbformat": 4,
 "nbformat_minor": 5
}

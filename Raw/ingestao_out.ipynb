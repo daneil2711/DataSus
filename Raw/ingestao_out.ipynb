{
 "cells": [
  {
   "cell_type": "code",
   "execution_count": 1,
   "id": "949af2f9",
   "metadata": {
    "execution": {
     "iopub.execute_input": "2023-08-27T05:13:26.371198Z",
     "iopub.status.busy": "2023-08-27T05:13:26.370835Z",
     "iopub.status.idle": "2023-08-27T05:13:26.376530Z",
     "shell.execute_reply": "2023-08-27T05:13:26.376151Z"
    },
    "papermill": {
     "duration": 0.009797,
     "end_time": "2023-08-27T05:13:26.377525",
     "exception": false,
     "start_time": "2023-08-27T05:13:26.367728",
     "status": "completed"
    },
    "tags": [
     "injected-parameters"
    ]
   },
   "outputs": [],
   "source": [
    "# Parameters\n",
    "dt_start = \"2023-08-27\"\n",
    "dt_stop = \"2023-08-27\"\n",
    "delay = 4\n"
   ]
  },
  {
   "cell_type": "code",
   "execution_count": 2,
   "id": "56386965",
   "metadata": {
    "execution": {
     "iopub.execute_input": "2023-08-27T05:13:26.390935Z",
     "iopub.status.busy": "2023-08-27T05:13:26.390704Z",
     "iopub.status.idle": "2023-08-27T05:13:26.393271Z",
     "shell.execute_reply": "2023-08-27T05:13:26.392870Z"
    },
    "papermill": {
     "duration": 0.013693,
     "end_time": "2023-08-27T05:13:26.394254",
     "exception": false,
     "start_time": "2023-08-27T05:13:26.380561",
     "status": "completed"
    },
    "tags": []
   },
   "outputs": [],
   "source": [
    "import platform\n",
    "if platform.system() == \"Windows\":\n",
    "    path = \"C:\"\n",
    "else:\n",
    "    path = \"/mnt/c\""
   ]
  },
  {
   "cell_type": "code",
   "execution_count": 3,
   "id": "f7b95cbb",
   "metadata": {
    "execution": {
     "iopub.execute_input": "2023-08-27T05:13:26.407962Z",
     "iopub.status.busy": "2023-08-27T05:13:26.407733Z",
     "iopub.status.idle": "2023-08-27T05:13:26.418105Z",
     "shell.execute_reply": "2023-08-27T05:13:26.417594Z"
    },
    "papermill": {
     "duration": 0.020915,
     "end_time": "2023-08-27T05:13:26.419282",
     "exception": false,
     "start_time": "2023-08-27T05:13:26.398367",
     "status": "completed"
    },
    "tags": []
   },
   "outputs": [],
   "source": [
    "import sys\n",
    "sys.path.insert(0, f\"{path}/Users/Daniel/Desktop/Estudos/DataSus/scripts\")\n",
    "from get_dbc import * #Tive que fazer um .py da função pra rodar usando o Pool\n",
    "from multiprocessing import Pool\n",
    "import datetime\n",
    "from dateutil.relativedelta import relativedelta"
   ]
  },
  {
   "cell_type": "code",
   "execution_count": 4,
   "id": "dc99381c",
   "metadata": {
    "execution": {
     "iopub.execute_input": "2023-08-27T05:13:26.430488Z",
     "iopub.status.busy": "2023-08-27T05:13:26.430267Z",
     "iopub.status.idle": "2023-08-27T05:13:27.726284Z",
     "shell.execute_reply": "2023-08-27T05:13:27.725530Z"
    },
    "papermill": {
     "duration": 1.306812,
     "end_time": "2023-08-27T05:13:27.727324",
     "exception": false,
     "start_time": "2023-08-27T05:13:26.420512",
     "status": "completed"
    },
    "tags": []
   },
   "outputs": [
    {
     "name": "stdout",
     "output_type": "stream",
     "text": [
      "AP"
     ]
    },
    {
     "name": "stdout",
     "output_type": "stream",
     "text": [
      "AC"
     ]
    },
    {
     "name": "stdout",
     "output_type": "stream",
     "text": [
      "\n"
     ]
    },
    {
     "name": "stdout",
     "output_type": "stream",
     "text": [
      "\n"
     ]
    },
    {
     "name": "stderr",
     "output_type": "stream",
     "text": [
      "\r",
      "  0%|          | 0/5 [00:00<?, ?it/s]"
     ]
    },
    {
     "name": "stderr",
     "output_type": "stream",
     "text": [
      "\r",
      "  0%|          | 0/5 [00:00<?, ?it/s]"
     ]
    },
    {
     "name": "stderr",
     "output_type": "stream",
     "text": [
      "\r",
      " 20%|██        | 1/5 [00:00<00:01,  3.64it/s]"
     ]
    },
    {
     "name": "stderr",
     "output_type": "stream",
     "text": [
      "\r",
      " 20%|██        | 1/5 [00:00<00:01,  3.26it/s]"
     ]
    },
    {
     "name": "stderr",
     "output_type": "stream",
     "text": [
      "\r",
      " 40%|████      | 2/5 [00:00<00:00,  3.54it/s]"
     ]
    },
    {
     "name": "stderr",
     "output_type": "stream",
     "text": [
      "\r",
      " 40%|████      | 2/5 [00:00<00:00,  3.38it/s]"
     ]
    },
    {
     "name": "stdout",
     "output_type": "stream",
     "text": [
      "Não foi possivel coletar o arquivo: RDAP2306.dbc"
     ]
    },
    {
     "name": "stdout",
     "output_type": "stream",
     "text": [
      "\n"
     ]
    },
    {
     "name": "stderr",
     "output_type": "stream",
     "text": [
      "\r",
      " 60%|██████    | 3/5 [00:00<00:00,  4.00it/s]"
     ]
    },
    {
     "name": "stderr",
     "output_type": "stream",
     "text": [
      "\r",
      " 60%|██████    | 3/5 [00:00<00:00,  3.62it/s]"
     ]
    },
    {
     "name": "stdout",
     "output_type": "stream",
     "text": [
      "Não foi possivel coletar o arquivo: RDAP2307.dbc"
     ]
    },
    {
     "name": "stdout",
     "output_type": "stream",
     "text": [
      "\n"
     ]
    },
    {
     "name": "stderr",
     "output_type": "stream",
     "text": [
      "\r",
      " 80%|████████  | 4/5 [00:00<00:00,  4.28it/s]"
     ]
    },
    {
     "name": "stdout",
     "output_type": "stream",
     "text": [
      "Não foi possivel coletar o arquivo: RDAC2307.dbc"
     ]
    },
    {
     "name": "stdout",
     "output_type": "stream",
     "text": [
      "\n"
     ]
    },
    {
     "name": "stderr",
     "output_type": "stream",
     "text": [
      "\r",
      " 80%|████████  | 4/5 [00:01<00:00,  4.08it/s]"
     ]
    },
    {
     "name": "stdout",
     "output_type": "stream",
     "text": [
      "Não foi possivel coletar o arquivo: RDAP2308.dbc"
     ]
    },
    {
     "name": "stdout",
     "output_type": "stream",
     "text": [
      "\n"
     ]
    },
    {
     "name": "stderr",
     "output_type": "stream",
     "text": [
      "\r",
      "100%|██████████| 5/5 [00:01<00:00,  4.48it/s]"
     ]
    },
    {
     "name": "stderr",
     "output_type": "stream",
     "text": [
      "\r",
      "100%|██████████| 5/5 [00:01<00:00,  4.18it/s]"
     ]
    },
    {
     "name": "stderr",
     "output_type": "stream",
     "text": [
      "\n"
     ]
    },
    {
     "name": "stdout",
     "output_type": "stream",
     "text": [
      "Não foi possivel coletar o arquivo: RDAC2308.dbc"
     ]
    },
    {
     "name": "stdout",
     "output_type": "stream",
     "text": [
      "\n"
     ]
    },
    {
     "name": "stderr",
     "output_type": "stream",
     "text": [
      "\r",
      "100%|██████████| 5/5 [00:01<00:00,  4.35it/s]"
     ]
    },
    {
     "name": "stderr",
     "output_type": "stream",
     "text": [
      "\r",
      "100%|██████████| 5/5 [00:01<00:00,  4.03it/s]"
     ]
    },
    {
     "name": "stderr",
     "output_type": "stream",
     "text": [
      "\n"
     ]
    }
   ],
   "source": [
    "\n",
    "# ufs =[\"RO\",\"AC\",\"AM\",\"RR\",\"PA\",\"AP\",\"TO\",\"MA\",\"PI\",\"CE\",\n",
    "#       \"RN\",\"PB\",\"PE\",\"AL\",\"SE\",\"BA\",\"MG\",\"ES\",\"RJ\",\"SP\",\n",
    "#       \"PR\",\"SC\",\"RS\",\"MS\",\"MT\",\"GO\",\"DF\"]\n",
    "\n",
    "ufs = [\"AC\",\"AP\"]\n",
    "# dt_start = '2023-08-26'\n",
    "# dt_stop = '2023-08-26'\n",
    "\n",
    "dt_start = ((datetime.datetime.strptime(dt_start, \"%Y-%m-%d\")) - relativedelta(months=delay)).strftime(\"%Y-%m-01\")\n",
    "\n",
    "datas = date_range(dt_start, dt_stop, monthly=True)\n",
    "\n",
    "to_download = [(uf, datas, path) for uf in ufs]\n",
    "to_download\n",
    "with Pool(3) as pool:\n",
    "    pool.starmap(get_data_uf, to_download)"
   ]
  },
  {
   "cell_type": "code",
   "execution_count": null,
   "id": "cfcb549a",
   "metadata": {
    "papermill": {
     "duration": 0.009644,
     "end_time": "2023-08-27T05:13:27.739428",
     "exception": false,
     "start_time": "2023-08-27T05:13:27.729784",
     "status": "completed"
    },
    "tags": []
   },
   "outputs": [],
   "source": []
  }
 ],
 "metadata": {
  "celltoolbar": "Tags",
  "kernelspec": {
   "display_name": "Python 3 (ipykernel)",
   "language": "python",
   "name": "python3"
  },
  "language_info": {
   "codemirror_mode": {
    "name": "ipython",
    "version": 3
   },
   "file_extension": ".py",
   "mimetype": "text/x-python",
   "name": "python",
   "nbconvert_exporter": "python",
   "pygments_lexer": "ipython3",
   "version": "3.10.12"
  },
  "papermill": {
   "default_parameters": {},
   "duration": 2.729979,
   "end_time": "2023-08-27T05:13:27.864061",
   "environment_variables": {},
   "exception": null,
   "input_path": "/mnt/c/Users/Daniel/Desktop/Estudos/DataSus/Raw/ingestao.ipynb",
   "output_path": "/mnt/c/Users/Daniel/Desktop/Estudos/DataSus/Raw/ingestao_out.ipynb",
   "parameters": {
    "delay": 4,
    "dt_start": "2023-08-27",
    "dt_stop": "2023-08-27"
   },
   "start_time": "2023-08-27T05:13:25.134082",
   "version": "2.4.0"
  }
 },
 "nbformat": 4,
 "nbformat_minor": 5
}
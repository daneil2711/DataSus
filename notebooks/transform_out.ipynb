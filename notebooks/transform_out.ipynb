{
 "cells": [
  {
   "cell_type": "code",
   "execution_count": 1,
   "id": "b5c59d87",
   "metadata": {
    "execution": {
     "iopub.execute_input": "2023-08-26T03:39:57.792635Z",
     "iopub.status.busy": "2023-08-26T03:39:57.791128Z",
     "iopub.status.idle": "2023-08-26T03:39:57.958340Z",
     "shell.execute_reply": "2023-08-26T03:39:57.957021Z"
    },
    "papermill": {
     "duration": 0.172264,
     "end_time": "2023-08-26T03:39:57.959860",
     "exception": false,
     "start_time": "2023-08-26T03:39:57.787596",
     "status": "completed"
    },
    "tags": [
     "injected-parameters"
    ]
   },
   "outputs": [],
   "source": [
    "# Parameters\n",
    "ambiente = \"ubuntu\"\n"
   ]
  },
  {
   "cell_type": "code",
   "execution_count": 2,
   "id": "6a1a71c8",
   "metadata": {
    "execution": {
     "iopub.execute_input": "2023-08-26T03:39:57.995681Z",
     "iopub.status.busy": "2023-08-26T03:39:57.972925Z",
     "iopub.status.idle": "2023-08-26T03:40:01.568369Z",
     "shell.execute_reply": "2023-08-26T03:40:01.567285Z"
    },
    "papermill": {
     "duration": 3.607985,
     "end_time": "2023-08-26T03:40:01.569503",
     "exception": false,
     "start_time": "2023-08-26T03:39:57.961518",
     "status": "completed"
    },
    "tags": [],
    "vscode": {
     "languageId": "r"
    }
   },
   "outputs": [
    {
     "name": "stderr",
     "output_type": "stream",
     "text": [
      "Installing package into ‘/usr/local/lib/R/site-library’\n",
      "(as ‘lib’ is unspecified)\n",
      "\n"
     ]
    }
   ],
   "source": [
    "install.packages(\"read.dbc\")"
   ]
  },
  {
   "cell_type": "code",
   "execution_count": 3,
   "id": "22745b97",
   "metadata": {
    "execution": {
     "iopub.execute_input": "2023-08-26T03:40:01.583724Z",
     "iopub.status.busy": "2023-08-26T03:40:01.582899Z",
     "iopub.status.idle": "2023-08-26T03:40:01.590205Z",
     "shell.execute_reply": "2023-08-26T03:40:01.589287Z"
    },
    "papermill": {
     "duration": 0.020296,
     "end_time": "2023-08-26T03:40:01.591352",
     "exception": false,
     "start_time": "2023-08-26T03:40:01.571056",
     "status": "completed"
    },
    "tags": [],
    "vscode": {
     "languageId": "r"
    }
   },
   "outputs": [],
   "source": [
    "if (ambiente == \"local\"){\n",
    "    path <- \"C:\"\n",
    "} else {\n",
    "    path <- \"/mnt/c\"\n",
    "}"
   ]
  },
  {
   "cell_type": "code",
   "execution_count": 4,
   "id": "57ad6cd0",
   "metadata": {
    "execution": {
     "iopub.execute_input": "2023-08-26T03:40:01.604382Z",
     "iopub.status.busy": "2023-08-26T03:40:01.603584Z",
     "iopub.status.idle": "2023-08-26T03:40:02.018124Z",
     "shell.execute_reply": "2023-08-26T03:40:02.017096Z"
    },
    "papermill": {
     "duration": 0.426057,
     "end_time": "2023-08-26T03:40:02.019260",
     "exception": false,
     "start_time": "2023-08-26T03:40:01.593203",
     "status": "completed"
    },
    "scrolled": true,
    "tags": [],
    "vscode": {
     "languageId": "r"
    }
   },
   "outputs": [
    {
     "name": "stderr",
     "output_type": "stream",
     "text": [
      "Warning message in system(\"python MoveArquivos.py local\"):\n",
      "“error in running command”\n"
     ]
    }
   ],
   "source": [
    "library (read.dbc)\n",
    "\n",
    "date = format(Sys.time(), \"%Y%m%d\")\n",
    "\n",
    "dbc_folder <- paste(path,\"/Users/Daniel/Desktop/Estudos/DataSus/rd/dbc/landing/\",sep = \"\")\n",
    "csv_folder <- paste(path,\"/Users/Daniel/Desktop/Estudos/DataSus/rd/csv/\",sep = \"\")\n",
    "files <- list.files(dbc_folder, full.names=TRUE)\n",
    "for (f in files){\n",
    "    df = read.dbc(f)\n",
    "    lista = strsplit(f, \"/\")[[1]]\n",
    "    file = gsub(\".dbc\", paste(date, \".csv\", sep=\".\"), lista[length(lista)])\n",
    "    write.csv2(df, paste(csv_folder, file, sep=\"\"),row.names=FALSE)\n",
    "    file.rename(from=f, to= gsub(\"landing\", \"proceeded\", f))\n",
    "}\n",
    "\n",
    "#Rodar abaixo quando for local\n",
    "system('python MoveArquivos.py local')"
   ]
  }
 ],
 "metadata": {
  "celltoolbar": "Tags",
  "kernelspec": {
   "display_name": "R",
   "language": "R",
   "name": "ir"
  },
  "language_info": {
   "codemirror_mode": "r",
   "file_extension": ".r",
   "mimetype": "text/x-r-source",
   "name": "R",
   "pygments_lexer": "r",
   "version": "4.1.2"
  },
  "papermill": {
   "default_parameters": {},
   "duration": 6.177546,
   "end_time": "2023-08-26T03:40:02.138519",
   "environment_variables": {},
   "exception": null,
   "input_path": "/mnt/c/Users/Daniel/Desktop/Estudos/DataSus/notebooks/transform.ipynb",
   "output_path": "/mnt/c/Users/Daniel/Desktop/Estudos/DataSus/notebooks/transform_out.ipynb",
   "parameters": {
    "ambiente": "ubuntu"
   },
   "start_time": "2023-08-26T03:39:55.960973",
   "version": "2.4.0"
  }
 },
 "nbformat": 4,
 "nbformat_minor": 5
}
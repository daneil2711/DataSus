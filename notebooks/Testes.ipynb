{
 "cells": [
  {
   "cell_type": "code",
   "execution_count": 1,
   "id": "d6a36943",
   "metadata": {},
   "outputs": [],
   "source": [
    "spark.stop()"
   ]
  },
  {
   "cell_type": "code",
   "execution_count": 2,
   "id": "21cf1e86",
   "metadata": {
    "scrolled": true
   },
   "outputs": [
    {
     "data": {
      "text/html": [
       "\n",
       "            <div>\n",
       "                <p><b>SparkSession - hive</b></p>\n",
       "                \n",
       "        <div>\n",
       "            <p><b>SparkContext</b></p>\n",
       "\n",
       "            <p><a href=\"http://DESKTOP-F7PDKOR:4040\">Spark UI</a></p>\n",
       "\n",
       "            <dl>\n",
       "              <dt>Version</dt>\n",
       "                <dd><code>v3.4.1</code></dd>\n",
       "              <dt>Master</dt>\n",
       "                <dd><code>local[*]</code></dd>\n",
       "              <dt>AppName</dt>\n",
       "                <dd><code>TesteHive</code></dd>\n",
       "            </dl>\n",
       "        </div>\n",
       "        \n",
       "            </div>\n",
       "        "
      ],
      "text/plain": [
       "<pyspark.sql.session.SparkSession at 0x1dc58a63290>"
      ]
     },
     "execution_count": 2,
     "metadata": {},
     "output_type": "execute_result"
    }
   ],
   "source": [
    "from pyspark.sql import SparkSession\n",
    "import delta\n",
    "import pandas as pd\n",
    "\n",
    "spark = (SparkSession.builder.master(\"local[*]\")\n",
    "    .appName(\"TesteHive\")\n",
    "    .config(\"hive.metastore.uris\", \"thrift://192.168.15.4:9083\")\n",
    "    .config(\"spark.sql.warehouse.dir\",\"hdfs://localhost:9000/users/hive/warehouse\")\n",
    "    .config(\"spark.sql.extensions\", \"io.delta.sql.DeltaSparkSessionExtension\")\n",
    "    .config(\"spark.sql.catalog.spark_catalog\", \"org.apache.spark.sql.delta.catalog.DeltaCatalog\")\n",
    "    .config(\"spark.sql.adaptive.enabled\", \"true\")\n",
    "    .enableHiveSupport()\n",
    "    .getOrCreate())\n",
    "spark"
   ]
  },
  {
   "cell_type": "code",
   "execution_count": 12,
   "id": "36198c51",
   "metadata": {},
   "outputs": [],
   "source": [
    "spark.conf.set(\"SQLConf.ADAPTIVE_EXECUTION_ENABLED.key\", \"true\")"
   ]
  },
  {
   "cell_type": "code",
   "execution_count": 6,
   "id": "27622cb4",
   "metadata": {},
   "outputs": [],
   "source": [
    "import sys\n",
    "sys.path.insert(0, \"C:/Users/Daniel/Desktop/Estudos/DataSus/notebooks\")\n",
    "from ingestors import IngestaoBronze\n",
    "import dbtools"
   ]
  },
  {
   "cell_type": "code",
   "execution_count": 7,
   "id": "70808987",
   "metadata": {
    "scrolled": true
   },
   "outputs": [
    {
     "name": "stdout",
     "output_type": "stream",
     "text": [
      "Inferindo schema...\n",
      "ok\n",
      "Carregando query default\n",
      "Ok.\n"
     ]
    }
   ],
   "source": [
    "table = \"rd_sih\"\n",
    "path_full_load = f'/DataSus/rd/csv'\n",
    "path_incremental = f'/DataSus/rd/csv'\n",
    "file_format = 'csv'\n",
    "table_name=table\n",
    "database_name='bronze'\n",
    "id_fields = [\"N_AIH\",\"DT_SAIDA\",\"IDENT\"]\n",
    "timestamp_field= 'DT_SAIDA'\n",
    "partition_fields=[\"ANO_CMPT\",\"MES_CMPT\"]\n",
    "read_options = {'sep': ';','header': 'true'}\n",
    "\n",
    "ingestao = IngestaoBronze(\n",
    "            path_full_load=path_full_load,\n",
    "            path_incremental=path_incremental,\n",
    "            file_format=file_format,\n",
    "            table_name=table_name,\n",
    "            database_name=database_name,\n",
    "            id_fields=id_fields,\n",
    "            timestamp_field=timestamp_field,\n",
    "            partition_fields=partition_fields,\n",
    "            read_options=read_options,\n",
    "            spark=spark)"
   ]
  },
  {
   "cell_type": "code",
   "execution_count": 8,
   "id": "36d80cfd",
   "metadata": {},
   "outputs": [],
   "source": [
    "if not spark._jsparkSession.catalog().tableExists(database_name, table):\n",
    "    df_null = spark.createDataFrame(data=[], schema=ingestao.schema)\n",
    "    ingestao.save_full(df_null)\n",
    "    #dbutils.fs.rm(ingestao.checkpoint_path, True) -- Ver como fazer essa parte - acho q vou usar a lib do hdfs"
   ]
  },
  {
   "cell_type": "code",
   "execution_count": 9,
   "id": "8bb38e9f",
   "metadata": {
    "scrolled": true
   },
   "outputs": [
    {
     "ename": "AttributeError",
     "evalue": "'DataStreamWriter' object has no attribute 'sparkSession'",
     "output_type": "error",
     "traceback": [
      "\u001b[1;31m---------------------------------------------------------------------------\u001b[0m",
      "\u001b[1;31mAttributeError\u001b[0m                            Traceback (most recent call last)",
      "Cell \u001b[1;32mIn[9], line 1\u001b[0m\n\u001b[1;32m----> 1\u001b[0m ingestao\u001b[38;5;241m.\u001b[39mprocess_stream()\n",
      "File \u001b[1;32mC:\\Users/Daniel/Desktop/Estudos/DataSus/notebooks\\ingestors.py:188\u001b[0m, in \u001b[0;36mIngestaoBronze.process_stream\u001b[1;34m(self)\u001b[0m\n\u001b[0;32m    186\u001b[0m \u001b[38;5;28;01mdef\u001b[39;00m \u001b[38;5;21mprocess_stream\u001b[39m(\u001b[38;5;28mself\u001b[39m):\n\u001b[0;32m    187\u001b[0m     df_stream \u001b[38;5;241m=\u001b[39m \u001b[38;5;28mself\u001b[39m\u001b[38;5;241m.\u001b[39mload_stream()\n\u001b[1;32m--> 188\u001b[0m     stream \u001b[38;5;241m=\u001b[39m \u001b[38;5;28mself\u001b[39m\u001b[38;5;241m.\u001b[39msave_stream(df_stream)\n\u001b[0;32m    189\u001b[0m     \u001b[38;5;28;01mreturn\u001b[39;00m stream\u001b[38;5;241m.\u001b[39mstart()\n",
      "File \u001b[1;32mC:\\Users/Daniel/Desktop/Estudos/DataSus/notebooks\\ingestors.py:167\u001b[0m, in \u001b[0;36mIngestaoBronze.save_stream\u001b[1;34m(self, df_stream)\u001b[0m\n\u001b[0;32m    161\u001b[0m \u001b[38;5;28;01mdef\u001b[39;00m \u001b[38;5;21msave_stream\u001b[39m(\u001b[38;5;28mself\u001b[39m, df_stream):\n\u001b[0;32m    162\u001b[0m     table_delta \u001b[38;5;241m=\u001b[39m delta\u001b[38;5;241m.\u001b[39mDeltaTable\u001b[38;5;241m.\u001b[39mforName(\u001b[38;5;28mself\u001b[39m\u001b[38;5;241m.\u001b[39mspark, \u001b[38;5;28mself\u001b[39m\u001b[38;5;241m.\u001b[39mtable_fullname)\n\u001b[0;32m    165\u001b[0m     \u001b[38;5;28;01mreturn\u001b[39;00m (\n\u001b[0;32m    166\u001b[0m         df_stream\u001b[38;5;241m.\u001b[39mwriteStream\u001b[38;5;241m.\u001b[39mtrigger(availableNow\u001b[38;5;241m=\u001b[39m\u001b[38;5;28;01mTrue\u001b[39;00m)\n\u001b[1;32m--> 167\u001b[0m         \u001b[38;5;241m.\u001b[39msparkSession\u001b[38;5;241m.\u001b[39mconf\u001b[38;5;241m.\u001b[39mset(SQLConf\u001b[38;5;241m.\u001b[39mADAPTIVE_EXECUTION_ENABLED\u001b[38;5;241m.\u001b[39mkey, \u001b[38;5;124m\"\u001b[39m\u001b[38;5;124mtrue\u001b[39m\u001b[38;5;124m\"\u001b[39m)\n\u001b[0;32m    168\u001b[0m         \u001b[38;5;241m.\u001b[39moption(\u001b[38;5;124m\"\u001b[39m\u001b[38;5;124mcheckpointLocation\u001b[39m\u001b[38;5;124m\"\u001b[39m, \u001b[38;5;28mself\u001b[39m\u001b[38;5;241m.\u001b[39mcheckpoint_path)\n\u001b[0;32m    169\u001b[0m         \u001b[38;5;241m.\u001b[39mforeachBatch(\u001b[38;5;28;01mlambda\u001b[39;00m df, batchID: \u001b[38;5;28mself\u001b[39m\u001b[38;5;241m.\u001b[39mupsert(df, table_delta))\n\u001b[0;32m    170\u001b[0m     )\n",
      "\u001b[1;31mAttributeError\u001b[0m: 'DataStreamWriter' object has no attribute 'sparkSession'"
     ]
    }
   ],
   "source": [
    "ingestao.process_stream()"
   ]
  },
  {
   "cell_type": "code",
   "execution_count": 49,
   "id": "696cebc4",
   "metadata": {},
   "outputs": [
    {
     "name": "stdout",
     "output_type": "stream",
     "text": [
      "+---+-----------------+------------------------+--------------------------------------+--------+\n",
      "| UF|count(DISTINCT 0)|count(DISTINCT mes_cmpt)|count(DISTINCT N_AIH, DT_SAIDA, IDENT)|count(1)|\n",
      "+---+-----------------+------------------------+--------------------------------------+--------+\n",
      "| 12|                1|                       6|                                 25169|   25169|\n",
      "| 16|                1|                       6|                                 20748|   20748|\n",
      "+---+-----------------+------------------------+--------------------------------------+--------+\n",
      "\n"
     ]
    }
   ],
   "source": [
    "spark.sql('''\n",
    "\n",
    "select \n",
    "\n",
    "substring(UF_zi,1,2) as UF,\n",
    "count (distinct 0),\n",
    "count (distinct mes_cmpt),\n",
    "count (distinct N_AIH,DT_SAIDA,IDENT),\n",
    "count(*)\n",
    "\n",
    "from bronze.rd_sih\n",
    "\n",
    "group by 1\n",
    "order by 1\n",
    "''').show(30)"
   ]
  },
  {
   "cell_type": "code",
   "execution_count": 46,
   "id": "8a2624f9",
   "metadata": {},
   "outputs": [],
   "source": [
    "df = spark.read.csv('/DataSus/rd/csv',sep=\";\",header=True)\n",
    "df.createOrReplaceTempView(\"test\")"
   ]
  },
  {
   "cell_type": "code",
   "execution_count": 47,
   "id": "4e190fbd",
   "metadata": {},
   "outputs": [
    {
     "name": "stdout",
     "output_type": "stream",
     "text": [
      "+---+------------------------+------------------------+--------------------------------------+--------+\n",
      "| UF|count(DISTINCT ano_cmpt)|count(DISTINCT mes_cmpt)|count(DISTINCT N_AIH, DT_SAIDA, IDENT)|count(1)|\n",
      "+---+------------------------+------------------------+--------------------------------------+--------+\n",
      "| 12|                       1|                       6|                                 25169|   29354|\n",
      "| 16|                       1|                       6|                                 20748|   24097|\n",
      "+---+------------------------+------------------------+--------------------------------------+--------+\n",
      "\n"
     ]
    }
   ],
   "source": [
    "spark.sql('''\n",
    "\n",
    "select \n",
    "\n",
    "substring(UF_zi,1,2) as UF,\n",
    "count (distinct ano_cmpt),\n",
    "count (distinct mes_cmpt),\n",
    "count (distinct N_AIH,DT_SAIDA,IDENT),\n",
    "count(*)\n",
    "\n",
    "from test\n",
    "\n",
    "group by 1\n",
    "order by 1\n",
    "''').show(30)"
   ]
  },
  {
   "cell_type": "code",
   "execution_count": null,
   "id": "4037f14d",
   "metadata": {},
   "outputs": [],
   "source": []
  }
 ],
 "metadata": {
  "kernelspec": {
   "display_name": "Python 3 (ipykernel)",
   "language": "python",
   "name": "python3"
  },
  "language_info": {
   "codemirror_mode": {
    "name": "ipython",
    "version": 3
   },
   "file_extension": ".py",
   "mimetype": "text/x-python",
   "name": "python",
   "nbconvert_exporter": "python",
   "pygments_lexer": "ipython3",
   "version": "3.11.4"
  }
 },
 "nbformat": 4,
 "nbformat_minor": 5
}

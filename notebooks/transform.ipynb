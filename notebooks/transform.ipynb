{
 "cells": [
  {
   "cell_type": "code",
   "execution_count": 1,
   "id": "6a1a71c8",
   "metadata": {
    "vscode": {
     "languageId": "r"
    }
   },
   "outputs": [
    {
     "name": "stdout",
     "output_type": "stream",
     "text": [
      "\n",
      "  There is a binary version available but the source version is later:\n",
      "         binary source needs_compilation\n",
      "read.dbc  1.0.5  1.0.6              TRUE\n",
      "\n",
      "  Binaries will be installed\n",
      "package 'read.dbc' successfully unpacked and MD5 sums checked\n",
      "\n",
      "The downloaded binary packages are in\n",
      "\tC:\\Users\\Daniel\\AppData\\Local\\Temp\\RtmpOIvfFN\\downloaded_packages\n"
     ]
    }
   ],
   "source": [
    "install.packages(\"read.dbc\")"
   ]
  },
  {
   "cell_type": "code",
   "execution_count": 3,
   "id": "22745b97",
   "metadata": {
    "vscode": {
     "languageId": "r"
    }
   },
   "outputs": [],
   "source": [
    "if (ambiente == \"local\"){\n",
    "    path <- \"C:\"\n",
    "} else {\n",
    "    path <- \"/mnt/c\"\n",
    "}"
   ]
  },
  {
   "cell_type": "code",
   "execution_count": 4,
   "id": "57ad6cd0",
   "metadata": {
    "scrolled": true,
    "vscode": {
     "languageId": "r"
    }
   },
   "outputs": [
    {
     "name": "stderr",
     "output_type": "stream",
     "text": [
      "Warning message:\n",
      "\"package 'read.dbc' was built under R version 3.6.3\""
     ]
    },
    {
     "data": {
      "text/html": [
       "0"
      ],
      "text/latex": [
       "0"
      ],
      "text/markdown": [
       "0"
      ],
      "text/plain": [
       "[1] 0"
      ]
     },
     "metadata": {},
     "output_type": "display_data"
    }
   ],
   "source": [
    "library (read.dbc)\n",
    "\n",
    "date = format(Sys.time(), \"%Y%m%d\")\n",
    "\n",
    "dbc_folder <- paste(path,\"/Users/Daniel/Desktop/Estudos/DataSus/rd/dbc/landing/\",sep = \"\")\n",
    "csv_folder <- paste(path,\"/Users/Daniel/Desktop/Estudos/DataSus/rd/csv/\",sep = \"\")\n",
    "files <- list.files(dbc_folder, full.names=TRUE)\n",
    "for (f in files){\n",
    "    df = read.dbc(f)\n",
    "    lista = strsplit(f, \"/\")[[1]]\n",
    "    file = gsub(\".dbc\", paste(date, \".csv\", sep=\".\"), lista[length(lista)])\n",
    "    write.csv2(df, paste(csv_folder, file, sep=\"\"),row.names=FALSE)\n",
    "    file.rename(from=f, to= gsub(\"landing\", \"proceeded\", f))\n",
    "}\n",
    "\n",
    "#Rodar abaixo quando for local\n",
    "system('python MoveArquivos.py local')"
   ]
  }
 ],
 "metadata": {
  "celltoolbar": "Tags",
  "kernelspec": {
   "display_name": "R",
   "language": "R",
   "name": "ir"
  },
  "language_info": {
   "codemirror_mode": "r",
   "file_extension": ".r",
   "mimetype": "text/x-r-source",
   "name": "R",
   "pygments_lexer": "r",
   "version": "3.6.1"
  }
 },
 "nbformat": 4,
 "nbformat_minor": 5
}

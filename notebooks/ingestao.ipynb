{
 "cells": [
  {
   "cell_type": "code",
   "execution_count": 2,
   "id": "56386965",
   "metadata": {},
   "outputs": [],
   "source": [
    "if ambiente == \"local\":\n",
    "    path = \"C:\"\n",
    "else:\n",
    "    path = \"/mnt/c\""
   ]
  },
  {
   "cell_type": "code",
   "execution_count": 3,
   "id": "f7b95cbb",
   "metadata": {},
   "outputs": [],
   "source": [
    "import sys\n",
    "sys.path.insert(0, f\"{path}/Users/Daniel/Desktop/Estudos/DataSus/notebooks\")\n",
    "from get_dbc import *\n",
    "#Tive que fazer um .py da função pra rodar usando o Pool\n",
    "from multiprocessing import Pool"
   ]
  },
  {
   "cell_type": "code",
   "execution_count": 4,
   "id": "dc99381c",
   "metadata": {},
   "outputs": [],
   "source": [
    "\n",
    "# ufs =[\"RO\",\"AC\",\"AM\",\"RR\",\"PA\",\"AP\",\"TO\",\"MA\",\"PI\",\"CE\",\n",
    "#       \"RN\",\"PB\",\"PE\",\"AL\",\"SE\",\"BA\",\"MG\",\"ES\",\"RJ\",\"SP\",\n",
    "#       \"PR\",\"SC\",\"RS\",\"MS\",\"MT\",\"GO\",\"DF\"]\n",
    "\n",
    "ufs = [\"AC\",\"AP\"]\n",
    "\n",
    "# dt_start = '2022-01-01'\n",
    "# dt_stop = '2022-02-01'\n",
    "\n",
    "datas = date_range(dt_start, dt_stop, monthly=True)\n",
    "\n",
    "to_download = [(uf, datas, path) for uf in ufs]\n",
    "to_download\n",
    "with Pool(3) as pool:\n",
    "    pool.starmap(get_data_uf, to_download)"
   ]
  },
  {
   "cell_type": "code",
   "execution_count": null,
   "id": "cfcb549a",
   "metadata": {},
   "outputs": [],
   "source": []
  }
 ],
 "metadata": {
  "celltoolbar": "Tags",
  "kernelspec": {
   "display_name": "Python 3 (ipykernel)",
   "language": "python",
   "name": "python3"
  },
  "language_info": {
   "codemirror_mode": {
    "name": "ipython",
    "version": 3
   },
   "file_extension": ".py",
   "mimetype": "text/x-python",
   "name": "python",
   "nbconvert_exporter": "python",
   "pygments_lexer": "ipython3",
   "version": "3.11.4"
  }
 },
 "nbformat": 4,
 "nbformat_minor": 5
}

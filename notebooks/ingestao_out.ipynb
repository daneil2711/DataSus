{
 "cells": [
  {
   "cell_type": "code",
   "execution_count": 1,
   "id": "23d0c9d7",
   "metadata": {
    "execution": {
     "iopub.execute_input": "2023-08-26T03:39:54.731620Z",
     "iopub.status.busy": "2023-08-26T03:39:54.731428Z",
     "iopub.status.idle": "2023-08-26T03:39:54.738908Z",
     "shell.execute_reply": "2023-08-26T03:39:54.738420Z"
    },
    "papermill": {
     "duration": 0.011373,
     "end_time": "2023-08-26T03:39:54.740090",
     "exception": false,
     "start_time": "2023-08-26T03:39:54.728717",
     "status": "completed"
    },
    "tags": [
     "injected-parameters"
    ]
   },
   "outputs": [],
   "source": [
    "# Parameters\n",
    "dt_start = \"2022-10-01\"\n",
    "dt_stop = \"2022-10-01\"\n",
    "ambiente = \"ubuntu\"\n"
   ]
  },
  {
   "cell_type": "code",
   "execution_count": 2,
   "id": "56386965",
   "metadata": {
    "execution": {
     "iopub.execute_input": "2023-08-26T03:39:54.751666Z",
     "iopub.status.busy": "2023-08-26T03:39:54.751448Z",
     "iopub.status.idle": "2023-08-26T03:39:54.754075Z",
     "shell.execute_reply": "2023-08-26T03:39:54.753663Z"
    },
    "papermill": {
     "duration": 0.013014,
     "end_time": "2023-08-26T03:39:54.755073",
     "exception": false,
     "start_time": "2023-08-26T03:39:54.742059",
     "status": "completed"
    },
    "tags": []
   },
   "outputs": [],
   "source": [
    "if ambiente == \"local\":\n",
    "    path = \"C:\"\n",
    "else:\n",
    "    path = \"/mnt/c\""
   ]
  },
  {
   "cell_type": "code",
   "execution_count": 3,
   "id": "f7b95cbb",
   "metadata": {
    "execution": {
     "iopub.execute_input": "2023-08-26T03:39:54.768164Z",
     "iopub.status.busy": "2023-08-26T03:39:54.767954Z",
     "iopub.status.idle": "2023-08-26T03:39:54.780998Z",
     "shell.execute_reply": "2023-08-26T03:39:54.780523Z"
    },
    "papermill": {
     "duration": 0.022978,
     "end_time": "2023-08-26T03:39:54.782225",
     "exception": false,
     "start_time": "2023-08-26T03:39:54.759247",
     "status": "completed"
    },
    "tags": []
   },
   "outputs": [],
   "source": [
    "import sys\n",
    "sys.path.insert(0, f\"{path}/Users/Daniel/Desktop/Estudos/DataSus/notebooks\")\n",
    "from get_dbc import *\n",
    "#Tive que fazer um .py da função pra rodar usando o Pool\n",
    "from multiprocessing import Pool"
   ]
  },
  {
   "cell_type": "code",
   "execution_count": 4,
   "id": "dc99381c",
   "metadata": {
    "execution": {
     "iopub.execute_input": "2023-08-26T03:39:54.794048Z",
     "iopub.status.busy": "2023-08-26T03:39:54.793833Z",
     "iopub.status.idle": "2023-08-26T03:39:55.174943Z",
     "shell.execute_reply": "2023-08-26T03:39:55.174177Z"
    },
    "papermill": {
     "duration": 0.392643,
     "end_time": "2023-08-26T03:39:55.176236",
     "exception": false,
     "start_time": "2023-08-26T03:39:54.783593",
     "status": "completed"
    },
    "tags": []
   },
   "outputs": [
    {
     "name": "stdout",
     "output_type": "stream",
     "text": [
      "AC"
     ]
    },
    {
     "name": "stdout",
     "output_type": "stream",
     "text": [
      "AP"
     ]
    },
    {
     "name": "stdout",
     "output_type": "stream",
     "text": [
      "\n"
     ]
    },
    {
     "name": "stdout",
     "output_type": "stream",
     "text": [
      "\n"
     ]
    },
    {
     "name": "stderr",
     "output_type": "stream",
     "text": [
      "\r",
      "  0%|          | 0/1 [00:00<?, ?it/s]"
     ]
    },
    {
     "name": "stderr",
     "output_type": "stream",
     "text": [
      "\r",
      "  0%|          | 0/1 [00:00<?, ?it/s]"
     ]
    },
    {
     "name": "stderr",
     "output_type": "stream",
     "text": [
      "\r",
      "100%|██████████| 1/1 [00:00<00:00,  3.33it/s]"
     ]
    },
    {
     "name": "stderr",
     "output_type": "stream",
     "text": [
      "\r",
      "100%|██████████| 1/1 [00:00<00:00,  3.31it/s]"
     ]
    },
    {
     "name": "stderr",
     "output_type": "stream",
     "text": [
      "\n"
     ]
    },
    {
     "name": "stderr",
     "output_type": "stream",
     "text": [
      "\r",
      "100%|██████████| 1/1 [00:00<00:00,  3.16it/s]"
     ]
    },
    {
     "name": "stderr",
     "output_type": "stream",
     "text": [
      "\r",
      "100%|██████████| 1/1 [00:00<00:00,  3.15it/s]"
     ]
    },
    {
     "name": "stderr",
     "output_type": "stream",
     "text": [
      "\n"
     ]
    }
   ],
   "source": [
    "\n",
    "# ufs =[\"RO\",\"AC\",\"AM\",\"RR\",\"PA\",\"AP\",\"TO\",\"MA\",\"PI\",\"CE\",\n",
    "#       \"RN\",\"PB\",\"PE\",\"AL\",\"SE\",\"BA\",\"MG\",\"ES\",\"RJ\",\"SP\",\n",
    "#       \"PR\",\"SC\",\"RS\",\"MS\",\"MT\",\"GO\",\"DF\"]\n",
    "\n",
    "ufs = [\"AC\",\"AP\"]\n",
    "\n",
    "# dt_start = '2022-01-01'\n",
    "# dt_stop = '2022-02-01'\n",
    "\n",
    "datas = date_range(dt_start, dt_stop, monthly=True)\n",
    "\n",
    "to_download = [(uf, datas, path) for uf in ufs]\n",
    "to_download\n",
    "with Pool(3) as pool:\n",
    "    pool.starmap(get_data_uf, to_download)"
   ]
  },
  {
   "cell_type": "code",
   "execution_count": null,
   "id": "cfcb549a",
   "metadata": {
    "papermill": {
     "duration": 0.008049,
     "end_time": "2023-08-26T03:39:55.186294",
     "exception": false,
     "start_time": "2023-08-26T03:39:55.178245",
     "status": "completed"
    },
    "tags": []
   },
   "outputs": [],
   "source": []
  }
 ],
 "metadata": {
  "celltoolbar": "Tags",
  "kernelspec": {
   "display_name": "Python 3 (ipykernel)",
   "language": "python",
   "name": "python3"
  },
  "language_info": {
   "codemirror_mode": {
    "name": "ipython",
    "version": 3
   },
   "file_extension": ".py",
   "mimetype": "text/x-python",
   "name": "python",
   "nbconvert_exporter": "python",
   "pygments_lexer": "ipython3",
   "version": "3.10.12"
  },
  "papermill": {
   "default_parameters": {},
   "duration": 4.486494,
   "end_time": "2023-08-26T03:39:55.410089",
   "environment_variables": {},
   "exception": null,
   "input_path": "/mnt/c/Users/Daniel/Desktop/Estudos/DataSus/notebooks/ingestao.ipynb",
   "output_path": "/mnt/c/Users/Daniel/Desktop/Estudos/DataSus/notebooks/ingestao_out.ipynb",
   "parameters": {
    "ambiente": "ubuntu",
    "dt_start": "2022-10-01",
    "dt_stop": "2022-10-01"
   },
   "start_time": "2023-08-26T03:39:50.923595",
   "version": "2.4.0"
  }
 },
 "nbformat": 4,
 "nbformat_minor": 5
}